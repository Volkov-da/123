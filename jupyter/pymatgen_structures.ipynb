{
 "cells": [
  {
   "cell_type": "code",
   "execution_count": 37,
   "metadata": {},
   "outputs": [],
   "source": [
    "from pymatgen.analysis.magnetism.analyzer import MagneticStructureEnumerator, CollinearMagneticStructureAnalyzer\n",
    "import os\n",
    "\n",
    "from pymatgen.io.vasp.outputs import Outcar\n",
    "import numpy as np\n",
    "import warnings\n",
    "warnings.filterwarnings('ignore')"
   ]
  },
  {
   "cell_type": "code",
   "execution_count": 40,
   "metadata": {},
   "outputs": [
    {
     "name": "stdout",
     "output_type": "stream",
     "text": [
      "[6.831, -0.097]\n"
     ]
    }
   ],
   "source": [
    "outcar = Outcar('../tests/EuO/vasp_inputs/fm0/OUTCAR')\n",
    "print([atom['tot'] for atom in outcar.magnetization])"
   ]
  },
  {
   "cell_type": "code",
   "execution_count": 74,
   "metadata": {},
   "outputs": [
    {
     "name": "stdout",
     "output_type": "stream",
     "text": [
      "../tests/Co/vasp_inputs/afm1 -1.939\n",
      "../tests/Co/vasp_inputs/afm2 -1.87\n",
      "../tests/Co/vasp_inputs/afm3 -1.834\n",
      "../tests/Co/vasp_inputs/afm4 -1.889\n",
      "../tests/Co/vasp_inputs/afm5 -1.957\n",
      "../tests/Co/vasp_inputs/fm0 1.859\n"
     ]
    }
   ],
   "source": [
    "def get_spin(outcar_path : str) -> float:\n",
    "    \"\"\"\n",
    "    Get total spin of first atom in FM structure to use as reference\n",
    "    \"\"\"\n",
    "\n",
    "    try:\n",
    "        outcar = Outcar(outcar_path)\n",
    "        magnetization = outcar.magnetization\n",
    "        return magnetization[0]['tot']\n",
    "    except:\n",
    "        return 0\n",
    "\n",
    "input_path = '../tests/Co'\n",
    "vasp_in_path = os.path.join(input_path, 'vasp_inputs')\n",
    "full_pathes = sorted([os.path.join(vasp_in_path, i) for i in os.listdir(vasp_in_path)])\n",
    "for path in full_pathes:\n",
    "    outcar_path = os.path.join(path, 'OUTCAR')\n",
    "    print(path, get_spin(outcar_path))"
   ]
  },
  {
   "cell_type": "code",
   "execution_count": null,
   "metadata": {},
   "outputs": [],
   "source": []
  }
 ],
 "metadata": {
  "kernelspec": {
   "display_name": "Python 3",
   "language": "python",
   "name": "python3"
  },
  "language_info": {
   "codemirror_mode": {
    "name": "ipython",
    "version": 3
   },
   "file_extension": ".py",
   "mimetype": "text/x-python",
   "name": "python",
   "nbconvert_exporter": "python",
   "pygments_lexer": "ipython3",
   "version": "3.9.2"
  }
 },
 "nbformat": 4,
 "nbformat_minor": 4
}
